{
 "cells": [
  {
   "cell_type": "code",
   "execution_count": 3,
   "metadata": {},
   "outputs": [],
   "source": [
    "msg= \"The updated Google Search experience was one of the several changes the company announced.\"\n"
   ]
  },
  {
   "cell_type": "code",
   "execution_count": null,
   "metadata": {},
   "outputs": [],
   "source": []
  },
  {
   "cell_type": "code",
   "execution_count": null,
   "metadata": {},
   "outputs": [],
   "source": []
  },
  {
   "cell_type": "code",
   "execution_count": null,
   "metadata": {},
   "outputs": [],
   "source": []
  },
  {
   "cell_type": "code",
   "execution_count": 2,
   "metadata": {},
   "outputs": [
    {
     "name": "stdout",
     "output_type": "stream",
     "text": [
      "total characters:90\n"
     ]
    }
   ],
   "source": [
    "chars= len(msg)\n",
    "print(f\"total characters:{chars}\")"
   ]
  },
  {
   "cell_type": "code",
   "execution_count": 5,
   "metadata": {},
   "outputs": [
    {
     "data": {
      "text/plain": [
       "12"
      ]
     },
     "execution_count": 5,
     "metadata": {},
     "output_type": "execute_result"
    }
   ],
   "source": [
    "msg.find(\"Google\")"
   ]
  },
  {
   "cell_type": "code",
   "execution_count": 6,
   "metadata": {},
   "outputs": [
    {
     "data": {
      "text/plain": [
       "52"
      ]
     },
     "execution_count": 6,
     "metadata": {},
     "output_type": "execute_result"
    }
   ],
   "source": [
    "msg.rfind(\"several\")"
   ]
  },
  {
   "cell_type": "code",
   "execution_count": 10,
   "metadata": {},
   "outputs": [
    {
     "data": {
      "text/plain": [
       "'experience was one of the several changes the company announced.'"
      ]
     },
     "execution_count": 10,
     "metadata": {},
     "output_type": "execute_result"
    }
   ],
   "source": [
    "idx = msg.find(\"experience\")\n",
    "msg[idx:]"
   ]
  },
  {
   "cell_type": "code",
   "execution_count": 11,
   "metadata": {},
   "outputs": [
    {
     "name": "stdout",
     "output_type": "stream",
     "text": [
      "The updated Microsoft Search experience was one of the several changes the company announced.\n"
     ]
    }
   ],
   "source": [
    "result= msg.replace(\"Google\",\"Microsoft\")\n",
    "print(result)\n"
   ]
  },
  {
   "cell_type": "code",
   "execution_count": 12,
   "metadata": {},
   "outputs": [
    {
     "name": "stdout",
     "output_type": "stream",
     "text": [
      "Result = The updated Meta Rescue experience is one of the several changes the company announced.\n"
     ]
    }
   ],
   "source": [
    "result2 = msg.replace(\"was\",\"is\").replace(\"Search\",\"Rescue\").replace(\"Google\",\"Meta\")\n",
    "print(f\"Result = {result2}\")"
   ]
  },
  {
   "cell_type": "code",
   "execution_count": 13,
   "metadata": {},
   "outputs": [
    {
     "data": {
      "text/plain": [
       "7"
      ]
     },
     "execution_count": 13,
     "metadata": {},
     "output_type": "execute_result"
    }
   ],
   "source": [
    "msg.count('a')"
   ]
  },
  {
   "cell_type": "code",
   "execution_count": 1,
   "metadata": {},
   "outputs": [
    {
     "name": "stdout",
     "output_type": "stream",
     "text": [
      "name= Amar\n",
      "name=  Akbar\n",
      "name=  Anthony\n",
      "name=  Vijay\n",
      "name=  Deenanath\n"
     ]
    }
   ],
   "source": [
    "names=\"Amar, Akbar, Anthony, Vijay, Deenanath\"\n",
    "name_list = names.split(\",\")\n",
    "for nm in name_list:\n",
    "    print(\"name=\", nm)\n",
    "    "
   ]
  },
  {
   "cell_type": "code",
   "execution_count": 2,
   "metadata": {},
   "outputs": [],
   "source": [
    "items = input(\"enter 5 items separated by space\").spli()\n",
    "print(items)\n"
   ]
  },
  {
   "cell_type": "code",
   "execution_count": 1,
   "metadata": {},
   "outputs": [
    {
     "name": "stdout",
     "output_type": "stream",
     "text": [
      "python is love\n"
     ]
    }
   ],
   "source": [
    "data_list=(\"python\", \"is\", \"love\")\n",
    "result=\" \".join(data_list)\n",
    "print(result)"
   ]
  },
  {
   "cell_type": "code",
   "execution_count": 4,
   "metadata": {},
   "outputs": [
    {
     "name": "stdout",
     "output_type": "stream",
     "text": [
      "THE UPDATED GOOGLE SEARCH EXPERIENCE WAS ONE OF THE SEVERAL CHANGES THE COMPANY ANNOUNCED.\n"
     ]
    }
   ],
   "source": [
    "print(msg.upper())"
   ]
  },
  {
   "cell_type": "code",
   "execution_count": 6,
   "metadata": {},
   "outputs": [
    {
     "name": "stdout",
     "output_type": "stream",
     "text": [
      "THE UPDATED GOOGLE SEARCH EXPERIENCE WAS ONE OF THE SEVERAL CHANGES THE COMPANY ANNOUNCED.\n"
     ]
    }
   ],
   "source": [
    "result1= msg.upper()\n",
    "print(result1)"
   ]
  },
  {
   "cell_type": "code",
   "execution_count": 7,
   "metadata": {},
   "outputs": [
    {
     "name": "stdout",
     "output_type": "stream",
     "text": [
      "The Updated Google Search Experience Was One Of The Several Changes The Company Announced.\n"
     ]
    }
   ],
   "source": [
    "result2= msg.title()\n",
    "print(result2)"
   ]
  },
  {
   "cell_type": "code",
   "execution_count": 8,
   "metadata": {},
   "outputs": [
    {
     "name": "stdout",
     "output_type": "stream",
     "text": [
      "The updated google search experience was one of the several changes the company announced.\n"
     ]
    }
   ],
   "source": [
    "result3= msg.capitalize()\n",
    "print(result3)"
   ]
  },
  {
   "cell_type": "code",
   "execution_count": 9,
   "metadata": {},
   "outputs": [
    {
     "name": "stdout",
     "output_type": "stream",
     "text": [
      "tHE UPDATED gOOGLE sEARCH EXPERIENCE WAS ONE OF THE SEVERAL CHANGES THE COMPANY ANNOUNCED.\n"
     ]
    }
   ],
   "source": [
    "result= msg.swapcase()\n",
    "print(result)"
   ]
  },
  {
   "cell_type": "code",
   "execution_count": 14,
   "metadata": {},
   "outputs": [
    {
     "data": {
      "text/plain": [
       "'tHE uPDATED MICROSOFT sEARCH eXPERIENCE wAS oNE oF tHE sEVERAL cHANGES tHE cOMPANY aNNOUNCED.'"
      ]
     },
     "execution_count": 14,
     "metadata": {},
     "output_type": "execute_result"
    }
   ],
   "source": [
    "msg.title().swapcase().replace(\"gOOGLE\",\"MICROSOFT\")"
   ]
  },
  {
   "cell_type": "code",
   "execution_count": null,
   "metadata": {},
   "outputs": [],
   "source": []
  }
 ],
 "metadata": {
  "kernelspec": {
   "display_name": "Python 3.9.12 ('base')",
   "language": "python",
   "name": "python3"
  },
  "language_info": {
   "codemirror_mode": {
    "name": "ipython",
    "version": 3
   },
   "file_extension": ".py",
   "mimetype": "text/x-python",
   "name": "python",
   "nbconvert_exporter": "python",
   "pygments_lexer": "ipython3",
   "version": "3.9.12"
  },
  "orig_nbformat": 4,
  "vscode": {
   "interpreter": {
    "hash": "6e1f61e91626b56570f139052a479e58b3b38e06f89bbba122fe7ff26020e794"
   }
  }
 },
 "nbformat": 4,
 "nbformat_minor": 2
}
